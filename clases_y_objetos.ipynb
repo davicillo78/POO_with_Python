{
 "cells": [
  {
   "cell_type": "markdown",
   "id": "b6cd537e",
   "metadata": {},
   "source": [
    "# ¿Qué es una Clase y Objetos en Python? #\n",
    "\n",
    "**Clase:** La clase es una estructura de datos definida por el usuario que une los miembros y métodos de datos en una sola unidad. La clase es un plano o **plantilla de código para la creación de objetos**. Usando una clase, puede crear tantos objetos como desee.\n",
    "\n",
    "**Objeto:** Un objeto es una **instancia de una clase**. Es una colección de atributos (variables) y métodos. Usamos el objeto de una clase para realizar acciones.\n",
    "\n",
    "Los objetos tienen dos características:\n",
    "\n",
    "- **Atributos**: representan el estado o características del objeto.\n",
    "\n",
    "- **Métodos**: representan las acciones o comportamientos posibles del objeto.\n"
   ]
  },
  {
   "cell_type": "code",
   "execution_count": 14,
   "id": "bb768007",
   "metadata": {},
   "outputs": [
    {
     "name": "stdout",
     "output_type": "stream",
     "text": [
      "Nombre: Juan, Edad: 30, Sexo: Masculino\n",
      "Nombre: Maria, Edad: 25, Sexo: Femenino\n",
      "Juan está trabajando.\n",
      "Maria está estudiando.\n"
     ]
    }
   ],
   "source": [
    "class Persona:\n",
    "    \"\"\"\n",
    "    Clase que representa a una persona con atributos de nombre, edad y sexo.\n",
    "    \n",
    "    Métodos:\n",
    "        mostrar_info(): Muestra la información básica de la persona.\n",
    "        trabajar_o_estudiar(): Indica si la persona trabaja o estudia, dependiendo de su edad.\n",
    "    \"\"\"\n",
    "\n",
    "    def __init__(self, nombre, edad, sexo):\n",
    "        \"\"\"\n",
    "        Inicializa una nueva instancia de la clase Persona.\n",
    "\n",
    "        Args:\n",
    "            nombre (str): El nombre de la persona.\n",
    "            edad (int): La edad de la persona.\n",
    "            sexo (str): El sexo de la persona.\n",
    "        \"\"\"\n",
    "        self.nombre = nombre\n",
    "        self.edad = edad\n",
    "        self.sexo = sexo\n",
    "\n",
    "    def mostrar_info(self):\n",
    "        \"\"\"\n",
    "        Muestra en pantalla la información básica de la persona: nombre, edad y sexo.\n",
    "        \"\"\"\n",
    "        print(f\"Nombre: {self.nombre}, Edad: {self.edad}, Sexo: {self.sexo}\")\n",
    "\n",
    "    def trabajar_o_estudiar(self):\n",
    "        \"\"\"\n",
    "        Indica en pantalla si la persona está trabajando o estudiando, según su edad.\n",
    "        Si la edad es menor a 26, se considera estudiante; de lo contrario, trabajador.\n",
    "        \"\"\"\n",
    "        if self.edad < 26:\n",
    "            print(f\"{self.nombre} está estudiando.\")\n",
    "        else:\n",
    "            print(f\"{self.nombre} está trabajando.\")\n",
    "\n",
    "def main():\n",
    "    \"\"\"\n",
    "    Función principal que crea instancias de la clase Persona y muestra su información,\n",
    "    así como si están trabajando o estudiando.\n",
    "    \"\"\"\n",
    "    # Creamos dos objetos instancia de la clase Persona\n",
    "    persona1 = Persona(\"Juan\", 30, \"Masculino\")\n",
    "    persona2 = Persona(\"Maria\", 25, \"Femenino\")\n",
    "\n",
    "    # Mostramos la información de cada persona\n",
    "    persona1.mostrar_info()\n",
    "    persona2.mostrar_info()\n",
    "\n",
    "    # Mostramos el método trabajar/estudiar de cada objeto\n",
    "    persona1.trabajar_o_estudiar()\n",
    "    persona2.trabajar_o_estudiar()\n",
    "\n",
    "if __name__ == \"__main__\":\n",
    "    main()\n",
    "    \"\"\"\n",
    "    Este bloque verifica si el archivo se está ejecutando como programa principal.\n",
    "    Si es así, llama a la función main() para iniciar la ejecución principal del script.\n",
    "    \"\"\""
   ]
  }
 ],
 "metadata": {
  "kernelspec": {
   "display_name": "Python 3",
   "language": "python",
   "name": "python3"
  },
  "language_info": {
   "codemirror_mode": {
    "name": "ipython",
    "version": 3
   },
   "file_extension": ".py",
   "mimetype": "text/x-python",
   "name": "python",
   "nbconvert_exporter": "python",
   "pygments_lexer": "ipython3",
   "version": "3.13.3"
  }
 },
 "nbformat": 4,
 "nbformat_minor": 5
}
